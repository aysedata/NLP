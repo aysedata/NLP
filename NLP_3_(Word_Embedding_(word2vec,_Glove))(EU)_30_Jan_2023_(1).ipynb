{
  "cells": [
    {
      "cell_type": "markdown",
      "metadata": {
        "id": "view-in-github",
        "colab_type": "text"
      },
      "source": [
        "<a href=\"https://colab.research.google.com/github/aysedata/NLP/blob/main/NLP_3_(Word_Embedding_(word2vec%2C_Glove))(EU)_30_Jan_2023_(1).ipynb\" target=\"_parent\"><img src=\"https://colab.research.google.com/assets/colab-badge.svg\" alt=\"Open In Colab\"/></a>"
      ]
    },
    {
      "cell_type": "markdown",
      "metadata": {
        "id": "VtIGy1IQJfQe"
      },
      "source": [
        "## Word_embedding\n",
        "\n",
        "Word embedding, bir kelime veya ifade için düz bir vektör olarak ifade edilmesidir. Bu vektörler, kelimelerin anlamları arasındaki benzerlikleri yansıtmak üzere öğrenilir. Bu sayede, yapay zeka modelleri kelimeler arasındaki ilişkileri daha iyi anlayabilir\n",
        "\n",
        "Word embedding, metin verileri kullanılarak öğrenilir. Örneğin, bir metin corpus'u (büyük metin veritabanı) kullanılarak, her kelime için çevresindeki kelimeler ile ilişkisini öğrenir. Bu ilişki, kelime ve çevresindeki kelimeler arasındaki co-occurrence (ortak görünüm) frekansı olarak tanımlanır. Daha sonra, bu co-occurrence verileri kullanarak, her kelime için bir vektör oluşturulur. Bu vektörler, kelimelerin anlamları arasındaki benzerlikleri yansıtmak üzere tasarlanır.\n",
        "\n",
        "Örneğin, \"king\" ve \"queen\" kelimeleri sıklıkla aynı metinlerde görülür ve benzer anlamlar taşır, bu nedenle oluşan vektörleri birbirine yakın olacak. Ancak \"king\" ve \"orange\" kelimeleri sıklıkla aynı metinlerde görülmez ve farklı anlamlar taşır, bu nedenle oluşan vektörleri birbirinden uzak olacak."
      ]
    },
    {
      "cell_type": "markdown",
      "metadata": {
        "id": "wHt-82JZJfQk"
      },
      "source": [
        "## Feature Representation (Feature Extraction for word embeddings)\n",
        "\n",
        "word embbeding vektöründe yeralan ve genellikle -1 ve +1 (Bazı pre-trained modellerde bu değer -1 ve +1'den büyük olabilir.) arasında değer alan elemanların her birine feature representation denir. Bu feature representationların model tarafından oluşturulması sürecisine ise feature extraction denir.\n",
        "\n",
        "ML'de, feature extraction, veri kümesinde bulunan özellikleri veya nitelikleri belirlemek için kullanılan bir yöntemdir. Bu özellikler, veri kümesindeki verileri anlamlı bir şekilde ifade etmelerine olanak tanır. Bu özellikler, veri kümesinden manuel olarak seçilir.\n",
        "\n",
        "DL'de ise, feature extraction, veri kümesindeki özellikleri öğrenmek için kullanılan bir yöntemdir. Bu yöntem için kullanılan yöntemler arasında Convolutional Neural Network (CNN) ve Recurrent Neural Network (RNN) gibi yapay sinir ağları yer almaktadır. Bu yapay sinir ağları, veri kümesinden özellikleri otomatik olarak öğrenir ve bu özellikler, veri kümesindeki verileri daha anlamlı bir şekilde ifade etmelerine olanak tanır.\n",
        "\n",
        "Özet olarak, ML'de özellikler manuel olarak kullanıcı tarafından seçilirken, DL'de özellikler otomatik model tarafından tespit edilerek öğrenilir."
      ]
    },
    {
      "cell_type": "markdown",
      "metadata": {
        "id": "Y0LFHfzAJfQl"
      },
      "source": [
        "## Word2Vec"
      ]
    },
    {
      "cell_type": "code",
      "execution_count": 1,
      "metadata": {
        "id": "hzbHelZtJfQm"
      },
      "outputs": [],
      "source": [
        "# pip install gensim\n",
        "# conda install -c conda-forge gensim\n",
        "\n",
        "# gensim kütüphanesi anaconda'da default yüklü olarak geliyor."
      ]
    },
    {
      "cell_type": "code",
      "source": [
        "import nltk\n",
        "nltk.download('punkt')"
      ],
      "metadata": {
        "colab": {
          "base_uri": "https://localhost:8080/"
        },
        "id": "b3mx0u8OKVwv",
        "outputId": "52132813-b256-4a3b-ba1b-2f4bbcea32a9"
      },
      "execution_count": 7,
      "outputs": [
        {
          "output_type": "stream",
          "name": "stderr",
          "text": [
            "[nltk_data] Downloading package punkt to /root/nltk_data...\n",
            "[nltk_data]   Unzipping tokenizers/punkt.zip.\n"
          ]
        },
        {
          "output_type": "execute_result",
          "data": {
            "text/plain": [
              "True"
            ]
          },
          "metadata": {},
          "execution_count": 7
        }
      ]
    },
    {
      "cell_type": "code",
      "execution_count": 2,
      "metadata": {
        "id": "_KTvTm74JfQo"
      },
      "outputs": [],
      "source": [
        "from nltk.tokenize import word_tokenize\n",
        "import pandas as pd\n",
        "from gensim.models import Word2Vec\n",
        "\n",
        "import warnings\n",
        "warnings.filterwarnings(\"ignore\")"
      ]
    },
    {
      "cell_type": "code",
      "execution_count": 4,
      "metadata": {
        "colab": {
          "base_uri": "https://localhost:8080/",
          "height": 423
        },
        "id": "v8hLi3HSJfQp",
        "outputId": "784302d3-4737-40a2-d24d-c4c789061a5c"
      },
      "outputs": [
        {
          "output_type": "execute_result",
          "data": {
            "text/plain": [
              "                                                     news\n",
              "0       iran devlet televizyonu ülkedeki eyaletin sind...\n",
              "1       gösterilerde fitnecilere ölüm münafıklara ölüm...\n",
              "2       dini lider ali hamaney ve cumhurbaşkanı mahmud...\n",
              "3         musevi ye ölüm ve idam idam sloganları duyuldu \n",
              "4       muhalefet liderleri kaçtı mı aşure günü yaşana...\n",
              "...                                                   ...\n",
              "411520  dışişleri bakanlığı ndan yapılan yazılı açıkla...\n",
              "411521  açıklamada abd nin ankara büyükelçiliği ve ist...\n",
              "411522  seyahat uyarısı güncelleme kararının temmuz da...\n",
              "411523  amerikalı turistlerin açıkça türkiye deki ulus...\n",
              "411524  abd dışişleri bakanlığı seyahat uyarısı açıkla...\n",
              "\n",
              "[411525 rows x 1 columns]"
            ],
            "text/html": [
              "\n",
              "  <div id=\"df-5993fe50-14b6-4e76-900d-449dad29f159\">\n",
              "    <div class=\"colab-df-container\">\n",
              "      <div>\n",
              "<style scoped>\n",
              "    .dataframe tbody tr th:only-of-type {\n",
              "        vertical-align: middle;\n",
              "    }\n",
              "\n",
              "    .dataframe tbody tr th {\n",
              "        vertical-align: top;\n",
              "    }\n",
              "\n",
              "    .dataframe thead th {\n",
              "        text-align: right;\n",
              "    }\n",
              "</style>\n",
              "<table border=\"1\" class=\"dataframe\">\n",
              "  <thead>\n",
              "    <tr style=\"text-align: right;\">\n",
              "      <th></th>\n",
              "      <th>news</th>\n",
              "    </tr>\n",
              "  </thead>\n",
              "  <tbody>\n",
              "    <tr>\n",
              "      <th>0</th>\n",
              "      <td>iran devlet televizyonu ülkedeki eyaletin sind...</td>\n",
              "    </tr>\n",
              "    <tr>\n",
              "      <th>1</th>\n",
              "      <td>gösterilerde fitnecilere ölüm münafıklara ölüm...</td>\n",
              "    </tr>\n",
              "    <tr>\n",
              "      <th>2</th>\n",
              "      <td>dini lider ali hamaney ve cumhurbaşkanı mahmud...</td>\n",
              "    </tr>\n",
              "    <tr>\n",
              "      <th>3</th>\n",
              "      <td>musevi ye ölüm ve idam idam sloganları duyuldu</td>\n",
              "    </tr>\n",
              "    <tr>\n",
              "      <th>4</th>\n",
              "      <td>muhalefet liderleri kaçtı mı aşure günü yaşana...</td>\n",
              "    </tr>\n",
              "    <tr>\n",
              "      <th>...</th>\n",
              "      <td>...</td>\n",
              "    </tr>\n",
              "    <tr>\n",
              "      <th>411520</th>\n",
              "      <td>dışişleri bakanlığı ndan yapılan yazılı açıkla...</td>\n",
              "    </tr>\n",
              "    <tr>\n",
              "      <th>411521</th>\n",
              "      <td>açıklamada abd nin ankara büyükelçiliği ve ist...</td>\n",
              "    </tr>\n",
              "    <tr>\n",
              "      <th>411522</th>\n",
              "      <td>seyahat uyarısı güncelleme kararının temmuz da...</td>\n",
              "    </tr>\n",
              "    <tr>\n",
              "      <th>411523</th>\n",
              "      <td>amerikalı turistlerin açıkça türkiye deki ulus...</td>\n",
              "    </tr>\n",
              "    <tr>\n",
              "      <th>411524</th>\n",
              "      <td>abd dışişleri bakanlığı seyahat uyarısı açıkla...</td>\n",
              "    </tr>\n",
              "  </tbody>\n",
              "</table>\n",
              "<p>411525 rows × 1 columns</p>\n",
              "</div>\n",
              "      <button class=\"colab-df-convert\" onclick=\"convertToInteractive('df-5993fe50-14b6-4e76-900d-449dad29f159')\"\n",
              "              title=\"Convert this dataframe to an interactive table.\"\n",
              "              style=\"display:none;\">\n",
              "        \n",
              "  <svg xmlns=\"http://www.w3.org/2000/svg\" height=\"24px\"viewBox=\"0 0 24 24\"\n",
              "       width=\"24px\">\n",
              "    <path d=\"M0 0h24v24H0V0z\" fill=\"none\"/>\n",
              "    <path d=\"M18.56 5.44l.94 2.06.94-2.06 2.06-.94-2.06-.94-.94-2.06-.94 2.06-2.06.94zm-11 1L8.5 8.5l.94-2.06 2.06-.94-2.06-.94L8.5 2.5l-.94 2.06-2.06.94zm10 10l.94 2.06.94-2.06 2.06-.94-2.06-.94-.94-2.06-.94 2.06-2.06.94z\"/><path d=\"M17.41 7.96l-1.37-1.37c-.4-.4-.92-.59-1.43-.59-.52 0-1.04.2-1.43.59L10.3 9.45l-7.72 7.72c-.78.78-.78 2.05 0 2.83L4 21.41c.39.39.9.59 1.41.59.51 0 1.02-.2 1.41-.59l7.78-7.78 2.81-2.81c.8-.78.8-2.07 0-2.86zM5.41 20L4 18.59l7.72-7.72 1.47 1.35L5.41 20z\"/>\n",
              "  </svg>\n",
              "      </button>\n",
              "      \n",
              "  <style>\n",
              "    .colab-df-container {\n",
              "      display:flex;\n",
              "      flex-wrap:wrap;\n",
              "      gap: 12px;\n",
              "    }\n",
              "\n",
              "    .colab-df-convert {\n",
              "      background-color: #E8F0FE;\n",
              "      border: none;\n",
              "      border-radius: 50%;\n",
              "      cursor: pointer;\n",
              "      display: none;\n",
              "      fill: #1967D2;\n",
              "      height: 32px;\n",
              "      padding: 0 0 0 0;\n",
              "      width: 32px;\n",
              "    }\n",
              "\n",
              "    .colab-df-convert:hover {\n",
              "      background-color: #E2EBFA;\n",
              "      box-shadow: 0px 1px 2px rgba(60, 64, 67, 0.3), 0px 1px 3px 1px rgba(60, 64, 67, 0.15);\n",
              "      fill: #174EA6;\n",
              "    }\n",
              "\n",
              "    [theme=dark] .colab-df-convert {\n",
              "      background-color: #3B4455;\n",
              "      fill: #D2E3FC;\n",
              "    }\n",
              "\n",
              "    [theme=dark] .colab-df-convert:hover {\n",
              "      background-color: #434B5C;\n",
              "      box-shadow: 0px 1px 3px 1px rgba(0, 0, 0, 0.15);\n",
              "      filter: drop-shadow(0px 1px 2px rgba(0, 0, 0, 0.3));\n",
              "      fill: #FFFFFF;\n",
              "    }\n",
              "  </style>\n",
              "\n",
              "      <script>\n",
              "        const buttonEl =\n",
              "          document.querySelector('#df-5993fe50-14b6-4e76-900d-449dad29f159 button.colab-df-convert');\n",
              "        buttonEl.style.display =\n",
              "          google.colab.kernel.accessAllowed ? 'block' : 'none';\n",
              "\n",
              "        async function convertToInteractive(key) {\n",
              "          const element = document.querySelector('#df-5993fe50-14b6-4e76-900d-449dad29f159');\n",
              "          const dataTable =\n",
              "            await google.colab.kernel.invokeFunction('convertToInteractive',\n",
              "                                                     [key], {});\n",
              "          if (!dataTable) return;\n",
              "\n",
              "          const docLinkHtml = 'Like what you see? Visit the ' +\n",
              "            '<a target=\"_blank\" href=https://colab.research.google.com/notebooks/data_table.ipynb>data table notebook</a>'\n",
              "            + ' to learn more about interactive tables.';\n",
              "          element.innerHTML = '';\n",
              "          dataTable['output_type'] = 'display_data';\n",
              "          await google.colab.output.renderOutput(dataTable, element);\n",
              "          const docLink = document.createElement('div');\n",
              "          docLink.innerHTML = docLinkHtml;\n",
              "          element.appendChild(docLink);\n",
              "        }\n",
              "      </script>\n",
              "    </div>\n",
              "  </div>\n",
              "  "
            ]
          },
          "metadata": {},
          "execution_count": 4
        }
      ],
      "source": [
        "df = pd.read_csv('newspaper.zip', names = [\"news\"])\n",
        "df\n",
        "\n",
        "# pandas'ın read_csv fonksiyonu zip'li dosyaları da okuyabiliyor. \n",
        "# ziplediğimiz data(corpus) txt dosyası olduğundan dosyada belirlenmiş feture ismi/isimleri belirlenmemiştir. Bu sebeple \n",
        "# feature isimlendirmesi için names parametresini kullanıyoruz.\n",
        "# names parametresi kullanılmaz ise ilk satırdaki text default olarak feature names olarak atanır.\n",
        "#noktalama isaretleri temizlenmis, hepsi kucuk harf.\n",
        "# STOP WORD'LERI TEMIZLEME!! deep model ogrenecek."
      ]
    },
    {
      "cell_type": "code",
      "execution_count": 5,
      "metadata": {
        "colab": {
          "base_uri": "https://localhost:8080/",
          "height": 35
        },
        "id": "BBvhINB2JfQq",
        "outputId": "f8ee0d85-076e-4eeb-fa5b-ad72effeb90d"
      },
      "outputs": [
        {
          "output_type": "execute_result",
          "data": {
            "text/plain": [
              "'iran devlet televizyonu ülkedeki eyaletin sinde yapılan reformcuları protesto amaçlı yürüyüşlere milyonlarca kişinin katıldığını bildirdi '"
            ],
            "application/vnd.google.colaboratory.intrinsic+json": {
              "type": "string"
            }
          },
          "metadata": {},
          "execution_count": 5
        }
      ],
      "source": [
        "df.news[0]"
      ]
    },
    {
      "cell_type": "code",
      "execution_count": 8,
      "metadata": {
        "colab": {
          "base_uri": "https://localhost:8080/"
        },
        "id": "XNkthu4ZJfQr",
        "outputId": "dffff35e-e3cd-46ee-e8b6-4763ffc43472"
      },
      "outputs": [
        {
          "output_type": "execute_result",
          "data": {
            "text/plain": [
              "['iran',\n",
              " 'devlet',\n",
              " 'televizyonu',\n",
              " 'ülkedeki',\n",
              " 'eyaletin',\n",
              " 'sinde',\n",
              " 'yapılan',\n",
              " 'reformcuları',\n",
              " 'protesto',\n",
              " 'amaçlı',\n",
              " 'yürüyüşlere',\n",
              " 'milyonlarca',\n",
              " 'kişinin',\n",
              " 'katıldığını',\n",
              " 'bildirdi']"
            ]
          },
          "metadata": {},
          "execution_count": 8
        }
      ],
      "source": [
        "word_tokenize(df.news[0])"
      ]
    },
    {
      "cell_type": "code",
      "execution_count": 9,
      "metadata": {
        "colab": {
          "base_uri": "https://localhost:8080/"
        },
        "id": "8kUabfQhJfQt",
        "outputId": "26e7e9dd-2d71-4c47-ae18-b76d969a3174"
      },
      "outputs": [
        {
          "output_type": "stream",
          "name": "stdout",
          "text": [
            "[['iran', 'devlet', 'televizyonu', 'ülkedeki', 'eyaletin', 'sinde', 'yapılan', 'reformcuları', 'protesto', 'amaçlı', 'yürüyüşlere', 'milyonlarca', 'kişinin', 'katıldığını', 'bildirdi'], ['gösterilerde', 'fitnecilere', 'ölüm', 'münafıklara', 'ölüm', 'abd', 'ye', 'ölüm', 'ingiltere', 'ye', 'ölüm', 'sloganları', 'atıldı'], ['dini', 'lider', 'ali', 'hamaney', 've', 'cumhurbaşkanı', 'mahmud', 'ahmedinejad', 'ı', 'destekleyen', 'iranlılar', 'son', 'olaylarda', 'yeğeni', 'öldürülen', 'mir', 'hüseyin', 'musevi', 'başta', 'olmak', 'üzere', 'muhalefet', 'liderlerini', 'kınadılar'], ['musevi', 'ye', 'ölüm', 've', 'idam', 'idam', 'sloganları', 'duyuldu'], ['muhalefet', 'liderleri', 'kaçtı', 'mı', 'aşure', 'günü', 'yaşanan', 'çatışmalarda', 'devlet', 'kaynaklarına', 'göre', 'u', 'terörist', 'olmak', 'üzere', 'kişi', 'ölmüştü']]\n"
          ]
        }
      ],
      "source": [
        "corpus = []\n",
        "\n",
        "for i in df.index:\n",
        "    corpus.append(word_tokenize(df.news[i]))\n",
        "\n",
        "print(corpus[:5])\n",
        "\n",
        "# word2vec algoritması tüm corpusun 2 boyutlu olmasını ister. Bu sebeple burdaki for döngüsü ile tüm documnetleri/satırları\n",
        "# teker teker çekip word tokenlerine ayırıyoruz. Word_tokenize fonksiyonu default olarak texti word tokenlerine ayırıp bir \n",
        "# listeye atar. Bu listeler corpus listesine append edilerek corpus 2 boyutlu hale getiritir. "
      ]
    },
    {
      "cell_type": "code",
      "execution_count": null,
      "metadata": {
        "id": "gy3ykapFJfQv"
      },
      "outputs": [],
      "source": []
    },
    {
      "cell_type": "code",
      "execution_count": null,
      "metadata": {
        "id": "K17SfQsLJfQv"
      },
      "outputs": [],
      "source": [
        "model = Word2Vec(corpus, vector_size=100, window=5, min_count=5, sg=1)\n",
        "\n",
        "# vector_size, kaç boyutlu word embeddings istiyorsak burda belirtiyoruz.\n",
        "# Bir token ile diğer tokenler arasındaki anlamsal ilişkiler kurulurken bu tokenin kaç önce ve sonrasındaki tokenler dikkate \n",
        "# alınarak eğitim yapılmasını istiyorsak window parametresinde belirtiyoruz. Tavsiye edilen 5-15 sayıları arasındadır.\n",
        "# min_count, corpusta 5 veya daha az geçen tokenler eğitime dahil edilmez. Genellikle 3,4,5 gibi sayılar tercih edilir.\n",
        "# sg =1, eğitimi skipgram algoritması ile yap.\n",
        "# sg =0, eğitimi CBOW algoritması ile yap."
      ]
    },
    {
      "cell_type": "code",
      "execution_count": null,
      "metadata": {
        "id": "CX3TOajHJfQw",
        "outputId": "ff65fed3-e536-43d5-8bcd-8e41aa35c959"
      },
      "outputs": [
        {
          "data": {
            "text/plain": [
              "array([ 0.3441693 ,  0.18543379, -0.19872634,  0.23503837,  0.16469045,\n",
              "        0.2865687 , -0.2889401 ,  0.9429464 , -0.2804621 , -0.33941638,\n",
              "       -0.21067587, -0.16293707, -0.25710574, -0.11478771, -0.0072794 ,\n",
              "        0.6861819 ,  0.13681021, -0.13114394,  0.07727321, -1.009751  ,\n",
              "       -0.06335889,  0.23829187,  0.6200752 , -0.39470533,  0.04591637,\n",
              "        0.28344986, -0.07981466,  0.30331495, -0.23600689,  0.4277663 ,\n",
              "        0.2816101 ,  0.5380762 , -0.22863017, -0.8429164 ,  0.15260535,\n",
              "       -0.14532804,  0.05964754, -0.2269461 ,  0.2783678 , -0.27150017,\n",
              "        0.5624108 ,  0.06899057,  0.32698855, -0.03078212,  0.1455206 ,\n",
              "        0.38612798, -0.423533  ,  0.09521478,  0.36564443, -0.44070894,\n",
              "        0.21834393, -0.16483161, -0.05296769, -0.01286471, -0.03060687,\n",
              "       -0.5058217 , -0.00110918, -0.5460528 , -0.558082  , -0.22550768,\n",
              "       -0.03117701, -0.24768427,  0.1458736 ,  0.06167162,  0.04401443,\n",
              "        0.11583218,  0.5002228 ,  0.2951722 ,  0.12509935, -0.23782077,\n",
              "       -0.6432111 , -0.30507857,  0.46241787,  0.10719842,  0.18598132,\n",
              "       -0.10751547, -0.03003838, -0.31180844, -0.41178763, -0.18648218,\n",
              "       -0.14542563, -0.83016676, -0.09710735,  0.55952024,  0.5282537 ,\n",
              "       -0.03597237,  0.10669664,  0.7326644 ,  0.32763824,  0.07810206,\n",
              "        0.38308397, -0.11524304, -0.02735055,  0.29351172,  0.11977157,\n",
              "        0.13574827, -0.04765517, -0.36907616,  0.29899418, -0.3042545 ],\n",
              "      dtype=float32)"
            ]
          },
          "execution_count": 8,
          "metadata": {},
          "output_type": "execute_result"
        }
      ],
      "source": [
        "model.wv['ankara']\n",
        "\n",
        "# 100 elemanlı/boyutlu word_embedding"
      ]
    },
    {
      "cell_type": "code",
      "execution_count": null,
      "metadata": {
        "id": "kPdPKayFJfQw"
      },
      "outputs": [],
      "source": []
    },
    {
      "cell_type": "code",
      "execution_count": null,
      "metadata": {
        "id": "L4lpJjHIJfQx",
        "outputId": "c3dc541c-d40d-40ad-cd52-b118521902f5"
      },
      "outputs": [
        {
          "data": {
            "text/plain": [
              "[('okuldaki', 0.7611968517303467),\n",
              " ('öğretmeni', 0.7440207600593567),\n",
              " ('öğrencisinin', 0.7435778975486755),\n",
              " ('öğretmenin', 0.7422101497650146),\n",
              " ('öğrencilerine', 0.7287434339523315),\n",
              " ('öğrenci', 0.7251050472259521),\n",
              " ('erkek', 0.7167589068412781),\n",
              " ('öğrencinin', 0.7128359079360962),\n",
              " ('öğretmenlik', 0.7113512754440308),\n",
              " ('üniversite', 0.7061052918434143)]"
            ]
          },
          "execution_count": 9,
          "metadata": {},
          "output_type": "execute_result"
        }
      ],
      "source": [
        "model.wv.most_similar('öğretmen')"
      ]
    },
    {
      "cell_type": "code",
      "execution_count": null,
      "metadata": {
        "id": "dRlUd2irJfQx",
        "outputId": "3bd38a1b-ee3a-4e3c-a618-9bd800b0ab14"
      },
      "outputs": [
        {
          "data": {
            "text/plain": [
              "[('çizgileri', 0.6992867588996887),\n",
              " ('gömlekli', 0.6750586032867432),\n",
              " ('bülten', 0.6317101716995239),\n",
              " ('ışıkta', 0.6302773952484131),\n",
              " ('gömlekliler', 0.6299250721931458),\n",
              " ('turuncu', 0.6290749311447144),\n",
              " ('sarı', 0.6280034184455872),\n",
              " ('halıda', 0.6223219633102417),\n",
              " ('bültenle', 0.6065525412559509),\n",
              " ('halı', 0.600972056388855)]"
            ]
          },
          "execution_count": 10,
          "metadata": {},
          "output_type": "execute_result"
        }
      ],
      "source": [
        "model.wv.most_similar('kırmızı')"
      ]
    },
    {
      "cell_type": "code",
      "execution_count": null,
      "metadata": {
        "id": "d3zfbKbzJfQy",
        "outputId": "8072d749-be75-4cff-c31e-feb3cb474481"
      },
      "outputs": [
        {
          "data": {
            "text/plain": [
              "[('evine', 0.8428974151611328),\n",
              " ('dükkana', 0.784963071346283),\n",
              " ('apartmana', 0.7660619020462036),\n",
              " ('mağazaya', 0.7406488060951233),\n",
              " ('arabaya', 0.73406982421875),\n",
              " ('karakola', 0.7220742106437683),\n",
              " ('otobüse', 0.7144497632980347),\n",
              " ('odasına', 0.7138554453849792),\n",
              " ('evden', 0.7110965251922607),\n",
              " ('arabasına', 0.7104228734970093)]"
            ]
          },
          "execution_count": 11,
          "metadata": {},
          "output_type": "execute_result"
        }
      ],
      "source": [
        "model.wv.most_similar('eve')"
      ]
    },
    {
      "cell_type": "code",
      "execution_count": null,
      "metadata": {
        "id": "PCHzSwVFJfQy",
        "outputId": "33f58497-41a6-4854-89b0-fafaf43f0984"
      },
      "outputs": [
        {
          "data": {
            "text/plain": [
              "[('marmara', 0.8910354375839233),\n",
              " ('gemisine', 0.649941623210907),\n",
              " ('baskınıyla', 0.6298705339431763),\n",
              " ('filosundaki', 0.6043975949287415),\n",
              " ('saldırısındaki', 0.5984426140785217),\n",
              " ('baskınına', 0.5959968566894531),\n",
              " ('gemilere', 0.5947985649108887),\n",
              " ('dökme', 0.5919091701507568),\n",
              " ('gemisindeki', 0.5863186717033386),\n",
              " ('filodaki', 0.5833677649497986)]"
            ]
          },
          "execution_count": 12,
          "metadata": {},
          "output_type": "execute_result"
        }
      ],
      "source": [
        "model.wv.most_similar('mavi')"
      ]
    },
    {
      "cell_type": "code",
      "execution_count": null,
      "metadata": {
        "id": "zSIOFINZJfQz",
        "outputId": "5a6dfa3d-d57c-422b-d056-9e5ec8cb4c0b"
      },
      "outputs": [
        {
          "data": {
            "text/plain": [
              "[('psikoloji', 0.661553144454956),\n",
              " ('driscoll', 0.6602360010147095),\n",
              " ('yaptıklarında', 0.6546162366867065),\n",
              " ('tanıtıp', 0.6528038382530212),\n",
              " ('almancayı', 0.6497054100036621)]"
            ]
          },
          "execution_count": 13,
          "metadata": {},
          "output_type": "execute_result"
        }
      ],
      "source": [
        "model.wv.most_similar(positive=['öğrenme', 'doktor'], negative=['tedavi'], topn=5)"
      ]
    },
    {
      "cell_type": "code",
      "execution_count": null,
      "metadata": {
        "id": "6NWWxIY-JfQ0",
        "outputId": "777cf8cf-4f83-4df0-dcb7-5868178abd70"
      },
      "outputs": [
        {
          "data": {
            "text/plain": [
              "[('hollanda', 0.688507080078125)]"
            ]
          },
          "execution_count": 14,
          "metadata": {},
          "output_type": "execute_result"
        }
      ],
      "source": [
        "model.wv.most_similar(positive=['ankara', 'belçika'], negative=['brüksel'], topn=1)"
      ]
    },
    {
      "cell_type": "code",
      "execution_count": null,
      "metadata": {
        "id": "i9jBo8CWJfQ1"
      },
      "outputs": [],
      "source": [
        "model.save(\"word2vec.model\")"
      ]
    },
    {
      "cell_type": "code",
      "execution_count": null,
      "metadata": {
        "id": "lTFJUZFFJfQ1"
      },
      "outputs": [],
      "source": [
        "model = Word2Vec.load(\"word2vec.model\")"
      ]
    },
    {
      "cell_type": "markdown",
      "metadata": {
        "id": "sGn2l4R_JfQ1"
      },
      "source": [
        "## Glove"
      ]
    },
    {
      "cell_type": "code",
      "execution_count": null,
      "metadata": {
        "id": "GRcPEu5kJfQ2"
      },
      "outputs": [],
      "source": [
        "from gensim.models import KeyedVectors\n",
        "\n",
        "# KeyedVectors fonksiyonunu farklı bir formattaki word embeddingleri word2vec formatına dönüştürmek için kullanıyoruz."
      ]
    },
    {
      "cell_type": "code",
      "execution_count": null,
      "metadata": {
        "id": "FHibuga3JfQ3"
      },
      "outputs": [],
      "source": [
        "glove_model = 'glove.6B.100d.txt'\n",
        "model2 = KeyedVectors.load_word2vec_format(glove_model, no_header=True) #'glove.6B.100d.txt'\n",
        "\n",
        "# 'glove.6B.100d.txt' word embedding textinde (vocab_size, vector_size) boyutuna ilişkin bir bildirim olmadığından KeyedVectors\n",
        "# dönüştürücüsünün tüm texti tarayıp (vocab_size, vector_size) boyutunu tespit etmesi ve buna göre ilgili token/kelimelere\n",
        "# karşılık gelen vektörleri döndürmesi gerekir. Bunu yapabilmesi için no_header=True olarak düzenleniyor."
      ]
    },
    {
      "cell_type": "code",
      "execution_count": null,
      "metadata": {
        "id": "dRht4AWSJfQ4",
        "outputId": "db938f9c-ac31-426f-b8d1-34179d4f6ecf"
      },
      "outputs": [
        {
          "data": {
            "text/plain": [
              "array([ 0.44374 ,  0.67311 , -0.51096 ,  0.20882 , -0.10662 ,  0.55098 ,\n",
              "       -0.035593,  0.25126 , -0.32789 ,  1.0762  , -0.49637 , -0.4298  ,\n",
              "        0.36764 ,  0.57894 , -0.25027 , -0.41021 ,  0.086998, -0.16843 ,\n",
              "       -0.85764 ,  1.0404  , -1.0314  ,  0.095147,  0.30729 ,  0.12348 ,\n",
              "        0.22745 , -0.52157 , -0.72478 , -1.0843  ,  0.035966,  0.62985 ,\n",
              "       -1.0991  ,  0.67161 ,  0.33797 ,  0.14551 , -0.90049 , -0.064415,\n",
              "       -0.75247 ,  0.21741 ,  0.51594 , -0.46291 , -0.77598 ,  0.40705 ,\n",
              "        0.1889  , -0.43402 ,  0.23202 , -0.081453, -0.3882  , -0.34444 ,\n",
              "        0.080225, -0.28274 , -0.38869 , -0.58152 , -0.25558 ,  1.0027  ,\n",
              "       -0.11114 , -1.5402  , -0.16761 , -0.26558 ,  0.9325  ,  0.069397,\n",
              "        0.96618 ,  0.15449 , -0.22905 , -0.1761  ,  0.13225 , -0.55741 ,\n",
              "        0.9234  , -0.04845 ,  0.50202 ,  1.0144  , -0.1256  ,  0.30486 ,\n",
              "        0.090808,  0.17642 , -0.23146 ,  0.68386 ,  0.37269 , -0.37316 ,\n",
              "       -0.025728, -1.0279  , -0.33142 ,  0.036028, -0.24925 , -1.4405  ,\n",
              "       -1.6267  ,  0.082284, -0.080153, -0.50802 ,  0.031885, -0.60546 ,\n",
              "        0.2908  ,  0.036842,  0.55328 ,  0.66784 , -0.42574 ,  0.53331 ,\n",
              "        0.053644, -0.66522 , -0.10012 , -0.17729 ], dtype=float32)"
            ]
          },
          "execution_count": 19,
          "metadata": {},
          "output_type": "execute_result"
        }
      ],
      "source": [
        "model2['teacher']"
      ]
    },
    {
      "cell_type": "code",
      "execution_count": null,
      "metadata": {
        "id": "S-2FeqsWJfQ4",
        "outputId": "14071488-0a84-4b97-db57-036353474e35"
      },
      "outputs": [
        {
          "data": {
            "text/plain": [
              "[('turkey', 0.7512096166610718),\n",
              " ('istanbul', 0.6787630319595337),\n",
              " ('turkish', 0.6690374612808228),\n",
              " ('damascus', 0.6372509002685547),\n",
              " ('tbilisi', 0.6322181820869446),\n",
              " ('erdogan', 0.6258037090301514),\n",
              " ('moscow', 0.6217040419578552),\n",
              " ('brussels', 0.6181437969207764),\n",
              " ('skopje', 0.6164302229881287),\n",
              " ('cyprus', 0.606403112411499)]"
            ]
          },
          "execution_count": 20,
          "metadata": {},
          "output_type": "execute_result"
        }
      ],
      "source": [
        "model2.most_similar('ankara')"
      ]
    },
    {
      "cell_type": "code",
      "execution_count": null,
      "metadata": {
        "id": "8kXlxaZuJfQ5",
        "outputId": "3c28ffac-06d2-48b4-b292-426063b15031"
      },
      "outputs": [
        {
          "data": {
            "text/plain": [
              "[('student', 0.8083398938179016),\n",
              " ('school', 0.7545564770698547),\n",
              " ('teaching', 0.7521439790725708),\n",
              " ('taught', 0.741184651851654),\n",
              " ('teachers', 0.7291542887687683),\n",
              " ('graduate', 0.7134961485862732),\n",
              " ('instructor', 0.7077120542526245),\n",
              " ('students', 0.6828974485397339),\n",
              " ('teaches', 0.6552315354347229),\n",
              " ('education', 0.6528989672660828)]"
            ]
          },
          "execution_count": 21,
          "metadata": {},
          "output_type": "execute_result"
        }
      ],
      "source": [
        "model2.most_similar('teacher')"
      ]
    },
    {
      "cell_type": "code",
      "execution_count": null,
      "metadata": {
        "id": "XuT-AjaeJfQ5",
        "outputId": "df75dc27-374e-432a-ca14-0ad194bbdaaa"
      },
      "outputs": [
        {
          "data": {
            "text/plain": [
              "[('physician', 0.7673240303993225),\n",
              " ('nurse', 0.75215083360672),\n",
              " ('dr.', 0.7175194025039673),\n",
              " ('doctors', 0.7080884575843811),\n",
              " ('patient', 0.7074184417724609),\n",
              " ('medical', 0.6995992660522461),\n",
              " ('surgeon', 0.6905338168144226),\n",
              " ('hospital', 0.6900930404663086),\n",
              " ('psychiatrist', 0.658909797668457),\n",
              " ('dentist', 0.6447421312332153)]"
            ]
          },
          "execution_count": 22,
          "metadata": {},
          "output_type": "execute_result"
        }
      ],
      "source": [
        "model2.most_similar('doctor')"
      ]
    },
    {
      "cell_type": "code",
      "execution_count": null,
      "metadata": {
        "id": "_WNWZGPZJfQ5",
        "outputId": "7409493a-8fba-438b-9d20-f3107e6ce959"
      },
      "outputs": [
        {
          "data": {
            "text/plain": [
              "[('daughter', 0.9090957641601562)]"
            ]
          },
          "execution_count": 23,
          "metadata": {},
          "output_type": "execute_result"
        }
      ],
      "source": [
        "model2.most_similar(positive=['woman', 'son'], negative=['man'], topn=1)"
      ]
    },
    {
      "cell_type": "code",
      "execution_count": null,
      "metadata": {
        "id": "oSpTS8hfJfQ6",
        "outputId": "4056b608-51ea-408f-991b-99c7e79dbefd"
      },
      "outputs": [
        {
          "data": {
            "text/plain": [
              "[('mother', 0.9024619460105896)]"
            ]
          },
          "execution_count": 24,
          "metadata": {},
          "output_type": "execute_result"
        }
      ],
      "source": [
        "model2.most_similar(positive=['woman', 'father'], negative=['man'], topn=1)"
      ]
    },
    {
      "cell_type": "code",
      "execution_count": null,
      "metadata": {
        "id": "IaWbAqHMJfQ6",
        "outputId": "3d6f37d7-c2b0-413a-ee22-848f61721367"
      },
      "outputs": [
        {
          "data": {
            "text/plain": [
              "[('aunt', 0.8368030190467834)]"
            ]
          },
          "execution_count": 25,
          "metadata": {},
          "output_type": "execute_result"
        }
      ],
      "source": [
        "model2.most_similar(positive=['woman', 'uncle'], negative=['man'], topn=1)"
      ]
    },
    {
      "cell_type": "code",
      "execution_count": null,
      "metadata": {
        "id": "NynMBN6gJfQ6",
        "outputId": "c628bf0a-e25f-4094-8c48-8fc49a1ba7f3"
      },
      "outputs": [
        {
          "data": {
            "text/plain": [
              "[('turkey', 0.81471186876297)]"
            ]
          },
          "execution_count": 26,
          "metadata": {},
          "output_type": "execute_result"
        }
      ],
      "source": [
        "model2.most_similar(positive=['ankara', 'germany'], negative=['berlin'], topn=1)"
      ]
    },
    {
      "cell_type": "code",
      "execution_count": null,
      "metadata": {
        "id": "xB-0ZFYHJfQ6",
        "outputId": "0169b2e2-ef5e-4121-8169-e279a6cac312"
      },
      "outputs": [
        {
          "data": {
            "text/plain": [
              "[('teacher', 0.7610154151916504)]"
            ]
          },
          "execution_count": 27,
          "metadata": {},
          "output_type": "execute_result"
        }
      ],
      "source": [
        "model2.most_similar(positive=['teach', 'doctor'], negative=['treat'], topn=1)"
      ]
    },
    {
      "cell_type": "code",
      "execution_count": null,
      "metadata": {
        "id": "zGd37wEUJfQ7",
        "outputId": "b4be7a22-88b6-4967-9fda-af8052d9dcbc"
      },
      "outputs": [
        {
          "data": {
            "text/plain": [
              "[('queen', 0.7698540687561035)]"
            ]
          },
          "execution_count": 28,
          "metadata": {},
          "output_type": "execute_result"
        }
      ],
      "source": [
        "model2.most_similar(positive=['woman', 'king'], negative=['man'], topn=1)"
      ]
    },
    {
      "cell_type": "code",
      "execution_count": null,
      "metadata": {
        "id": "h0zpysm0JfQ7",
        "outputId": "60d4a66d-f458-4c45-f39c-d75efb865f23"
      },
      "outputs": [
        {
          "data": {
            "text/plain": [
              "[('lover', 0.7032662630081177)]"
            ]
          },
          "execution_count": 29,
          "metadata": {},
          "output_type": "execute_result"
        }
      ],
      "source": [
        "model2.most_similar(positive=['love', 'jealous'], negative=['hate'], topn=1)"
      ]
    },
    {
      "cell_type": "code",
      "execution_count": null,
      "metadata": {
        "id": "I3vwlnp-JfQ7"
      },
      "outputs": [],
      "source": []
    },
    {
      "cell_type": "code",
      "execution_count": null,
      "metadata": {
        "id": "f7HqTKh8JfQ8"
      },
      "outputs": [],
      "source": []
    }
  ],
  "metadata": {
    "kernelspec": {
      "display_name": "Python 3 (ipykernel)",
      "language": "python",
      "name": "python3"
    },
    "language_info": {
      "codemirror_mode": {
        "name": "ipython",
        "version": 3
      },
      "file_extension": ".py",
      "mimetype": "text/x-python",
      "name": "python",
      "nbconvert_exporter": "python",
      "pygments_lexer": "ipython3",
      "version": "3.9.15"
    },
    "colab": {
      "provenance": [],
      "include_colab_link": true
    }
  },
  "nbformat": 4,
  "nbformat_minor": 0
}